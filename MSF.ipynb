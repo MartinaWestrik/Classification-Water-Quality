{
  "nbformat": 4,
  "nbformat_minor": 0,
  "metadata": {
    "colab": {
      "provenance": [],
      "authorship_tag": "ABX9TyOVJUHk3FvycgkrquHumtSg",
      "include_colab_link": true
    },
    "kernelspec": {
      "name": "python3",
      "display_name": "Python 3"
    },
    "language_info": {
      "name": "python"
    }
  },
  "cells": [
    {
      "cell_type": "markdown",
      "metadata": {
        "id": "view-in-github",
        "colab_type": "text"
      },
      "source": [
        "<a href=\"https://colab.research.google.com/github/MartinaWestrik/Classification-Water-Quality/blob/main/MSF.ipynb\" target=\"_parent\"><img src=\"https://colab.research.google.com/assets/colab-badge.svg\" alt=\"Open In Colab\"/></a>"
      ]
    },
    {
      "cell_type": "code",
      "source": [
        "!pip install fpdf\n",
        "from fpdf import FPDF"
      ],
      "metadata": {
        "colab": {
          "base_uri": "https://localhost:8080/"
        },
        "id": "SaRFkRKqRGse",
        "outputId": "ea7db6b1-a76e-4f75-a491-4b9b40c32a17"
      },
      "execution_count": 1,
      "outputs": [
        {
          "output_type": "stream",
          "name": "stdout",
          "text": [
            "Collecting fpdf\n",
            "  Downloading fpdf-1.7.2.tar.gz (39 kB)\n",
            "  Preparing metadata (setup.py) ... \u001b[?25l\u001b[?25hdone\n",
            "Building wheels for collected packages: fpdf\n",
            "  Building wheel for fpdf (setup.py) ... \u001b[?25l\u001b[?25hdone\n",
            "  Created wheel for fpdf: filename=fpdf-1.7.2-py2.py3-none-any.whl size=40704 sha256=5b04510f907dc3fe220de7ed4d70f83894b5384b11fa185ab8273ef3b81b48a8\n",
            "  Stored in directory: /root/.cache/pip/wheels/65/4f/66/bbda9866da446a72e206d6484cd97381cbc7859a7068541c36\n",
            "Successfully built fpdf\n",
            "Installing collected packages: fpdf\n",
            "Successfully installed fpdf-1.7.2\n"
          ]
        }
      ]
    },
    {
      "cell_type": "code",
      "source": [
        "# Import necessary libraries\n",
        "import pandas as pd\n",
        "import numpy as np\n",
        "import matplotlib.pyplot as plt\n",
        "import seaborn as sns\n",
        "from datetime import datetime, timedelta"
      ],
      "metadata": {
        "id": "oVH4w248Otk5"
      },
      "execution_count": 2,
      "outputs": []
    },
    {
      "cell_type": "code",
      "source": [
        "# Simulate sample metadata\n",
        "np.random.seed(42)\n",
        "\n",
        "num_users = 20\n",
        "num_events = 500\n",
        "features = ['Dashboard', 'Goals', 'Education', 'Reminders', 'Blood Glucose']\n",
        "user_ids = [f\"user_{i+1}\" for i in range(num_users)]\n",
        "\n",
        "data = {\n",
        "    'user_id': np.random.choice(user_ids, size=num_events),\n",
        "    'timestamp': [datetime(2025, 5, 1) + timedelta(minutes=np.random.randint(0, 43200)) for _ in range(num_events)],\n",
        "    'feature': np.random.choice(features, size=num_events),\n",
        "    'duration_sec': np.random.exponential(scale=300, size=num_events).astype(int)\n",
        "}\n",
        "df = pd.DataFrame(data)\n",
        "df['duration_min'] = df['duration_sec'] / 60"
      ],
      "metadata": {
        "id": "DwUz7dtLOwT5"
      },
      "execution_count": 3,
      "outputs": []
    },
    {
      "cell_type": "code",
      "source": [
        "# Aggregate per user\n",
        "user_engagement = df.groupby('user_id').agg(\n",
        "    total_sessions=('timestamp', 'count'),\n",
        "    avg_session_duration=('duration_min', 'mean'),\n",
        "    total_time_spent=('duration_min', 'sum')\n",
        ").reset_index()"
      ],
      "metadata": {
        "id": "e3kTckqnOzud"
      },
      "execution_count": 4,
      "outputs": []
    },
    {
      "cell_type": "code",
      "source": [
        "# Plot: Histogram of average session durations\n",
        "plt.figure(figsize=(8, 5))\n",
        "sns.histplot(user_engagement['avg_session_duration'], bins=10, color='steelblue', edgecolor='black')\n",
        "plt.axvline(user_engagement['avg_session_duration'].mean(), color='red', linestyle='--', label='Mean Duration')\n",
        "plt.title(\"Average Session Duration per User\")\n",
        "plt.xlabel(\"Average Duration (minutes)\")\n",
        "plt.ylabel(\"Number of Users\")\n",
        "plt.legend()\n",
        "plt.tight_layout()"
      ],
      "metadata": {
        "colab": {
          "base_uri": "https://localhost:8080/",
          "height": 507
        },
        "id": "75zG6t6zO05F",
        "outputId": "480b76b4-18f7-459c-a256-68eddc1b54d6"
      },
      "execution_count": 5,
      "outputs": [
        {
          "output_type": "display_data",
          "data": {
            "text/plain": [
              "<Figure size 800x500 with 1 Axes>"
            ],
            "image/png": "[encoded data removed]"
          },
          "metadata": {}
        }
      ]
    },
    {
      "cell_type": "code",
      "execution_count": 6,
      "metadata": {
        "colab": {
          "base_uri": "https://localhost:8080/",
          "height": 53
        },
        "id": "fha5gRifyKYU",
        "outputId": "4c5bd3b3-2f44-416a-933e-e50f2ea8d8c1"
      },
      "outputs": [
        {
          "output_type": "execute_result",
          "data": {
            "text/plain": [
              "('user_engagement_histogram.png', 'user_engagement_summary.csv')"
            ]
          },
          "metadata": {},
          "execution_count": 6
        },
        {
          "output_type": "display_data",
          "data": {
            "text/plain": [
              "<Figure size 640x480 with 0 Axes>"
            ]
          },
          "metadata": {}
        }
      ],
      "source": [
        "# Save outputs\n",
        "plot_path = \"user_engagement_histogram.png\"\n",
        "csv_path = \"user_engagement_summary.csv\"\n",
        "plt.savefig(plot_path)\n",
        "user_engagement.to_csv(csv_path, index=False)\n",
        "\n",
        "plot_path, csv_path\n"
      ]
    },
    {
      "cell_type": "code",
      "source": [
        "# Create PDF for the analytical sample\n",
        "class PDFReport(FPDF):\n",
        "    def header(self):\n",
        "        self.set_font(\"Arial\", 'B', 14)\n",
        "        self.cell(0, 10, \"Sample Analysis: User Engagement from App Metadata\", ln=True, align='C')\n",
        "        self.ln(5)\n",
        "\n",
        "    def section_title(self, title):\n",
        "        self.set_font(\"Arial\", 'B', 12)\n",
        "        self.cell(0, 10, title, ln=True)\n",
        "        self.ln(2)\n",
        "\n",
        "    def section_body(self, text):\n",
        "        self.set_font(\"Arial\", '', 11)\n",
        "        self.multi_cell(0, 6, text)\n",
        "        self.ln()"
      ],
      "metadata": {
        "id": "Dr9f4m5JRJrV"
      },
      "execution_count": 7,
      "outputs": []
    },
    {
      "cell_type": "code",
      "source": [
        "# Initialize PDF\n",
        "pdf = PDFReport()\n",
        "pdf.add_page()\n",
        "\n",
        "# Add content\n",
        "pdf.section_title(\"Overview\")\n",
        "pdf.section_body(\n",
        "    \"This short analysis demonstrates how user engagement can be measured using mobile app metadata. \"\n",
        "    \"Simulated data includes user IDs, timestamps, feature usage, and session durations in seconds. \"\n",
        "    \"From this, we calculate total sessions, average session durations, and total time spent per user.\"\n",
        ")\n",
        "\n",
        "pdf.section_title(\"Key Metrics Computed\")\n",
        "pdf.section_body(\n",
        "    \"- Total number of sessions per user\\n\"\n",
        "    \"- Average session duration (in minutes)\\n\"\n",
        "    \"- Total time spent using the app per user\"\n",
        ")\n",
        "\n",
        "pdf.section_title(\"Visualization\")\n",
        "pdf.section_body(\n",
        "    \"The histogram below shows the distribution of average session durations across users. \"\n",
        "    \"This allows us to quickly identify typical engagement levels and detect outliers.\"\n",
        ")\n",
        "\n",
        "# Add image\n",
        "pdf.image(\"user_engagement_histogram.png\", w=170)\n",
        "\n",
        "# Save the PDF\n",
        "pdf_path = \"User_Engagement_Analysis_Martina_Westrik.pdf\"\n",
        "pdf.output(pdf_path)\n",
        "\n",
        "pdf_path\n"
      ],
      "metadata": {
        "colab": {
          "base_uri": "https://localhost:8080/",
          "height": 36
        },
        "id": "fL22zyifRKHs",
        "outputId": "d3bfa4c9-3dc1-4054-9e59-dfe1c3310255"
      },
      "execution_count": 8,
      "outputs": [
        {
          "output_type": "execute_result",
          "data": {
            "text/plain": [
              "'User_Engagement_Analysis_Martina_Westrik.pdf'"
            ],
            "application/vnd.google.colaboratory.intrinsic+json": {
              "type": "string"
            }
          },
          "metadata": {},
          "execution_count": 8
        }
      ]
    }
  ]
}